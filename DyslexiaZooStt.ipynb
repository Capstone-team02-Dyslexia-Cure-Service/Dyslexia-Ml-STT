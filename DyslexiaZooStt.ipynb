{
  "cells": [
    {
      "cell_type": "code",
      "execution_count": null,
      "metadata": {
        "id": "7e4VCAJZsLD8"
      },
      "outputs": [],
      "source": [
        "from google.colab import drive\n",
        "drive.mount('/content/drive')"
      ]
    },
    {
      "cell_type": "code",
      "execution_count": null,
      "metadata": {
        "id": "oUBCLVPssRUB"
      },
      "outputs": [],
      "source": [
        "import json\n",
        "import os\n",
        "import re\n",
        "import shutil\n",
        "import zipfile\n",
        "import glob"
      ]
    },
    {
      "cell_type": "code",
      "execution_count": null,
      "metadata": {
        "colab": {
          "base_uri": "https://localhost:8080/"
        },
        "id": "JYXLqQBYsjDF",
        "outputId": "fd90b982-e845-4b8d-ddf5-00f73621a18f"
      },
      "outputs": [
        {
          "output_type": "stream",
          "name": "stdout",
          "text": [
            "모든 파일이 정렬되어 /content/wav/train_wav 폴더로 이동되었습니다.\n"
          ]
        }
      ],
      "source": [
        "##########################################wav zip######################################\n",
        "zip_file_path_2 = \"/content/drive/MyDrive/cap/four.zip\"\n",
        "output_folder_2 = \"/content/wav/train_wav\"\n",
        "\n",
        "# 압축을 해제할 폴더 경로\n",
        "extracted_folder_2 = \"/content/extracted_wav\"\n",
        "\n",
        "# 압축 파일 해제\n",
        "with zipfile.ZipFile(zip_file_path_2, 'r') as zip_ref:\n",
        "    zip_ref.extractall(extracted_folder_2)\n",
        "\n",
        "# 만약 output_folder가 없다면 생성\n",
        "if not os.path.exists(output_folder_2):\n",
        "    os.makedirs(output_folder_2)\n",
        "\n",
        "# 해제된 폴더 안의 모든 폴더 목록을 가져옴\n",
        "sub_folders = [folder for folder in os.listdir(extracted_folder_2) if os.path.isdir(os.path.join(extracted_folder_2, folder))]\n",
        "\n",
        "# 각 폴더의 파일들을 정렬하여 하나의 폴더로 이동\n",
        "for sub_folder in sub_folders:\n",
        "    folder_path = os.path.join(extracted_folder_2, sub_folder)\n",
        "    files = sorted(os.listdir(folder_path))  # 파일 목록을 정렬함\n",
        "\n",
        "    # 폴더 안의 파일들을 output_folder로 이동\n",
        "    for file in files:\n",
        "        file_path = os.path.join(folder_path, file)\n",
        "        output_file_path = os.path.join(output_folder_2, file)\n",
        "        shutil.move(file_path, output_file_path)\n",
        "\n",
        "print(\"모든 파일이 정렬되어 {} 폴더로 이동되었습니다.\".format(output_folder_2))\n"
      ]
    },
    {
      "cell_type": "code",
      "execution_count": null,
      "metadata": {
        "colab": {
          "base_uri": "https://localhost:8080/"
        },
        "id": "DofyPkkxtHRl",
        "outputId": "9a2c3aad-414a-4b68-b9d9-a9713792343a"
      },
      "outputs": [
        {
          "output_type": "stream",
          "name": "stdout",
          "text": [
            "폴더 내의 파일 개수: 156415\n"
          ]
        }
      ],
      "source": [
        "##########################폴더 내 파일의 개수 찾는 함수#############################\n",
        "def count_files_in_folder(folder_path):\n",
        "    if not os.path.exists(folder_path):\n",
        "        print(f\"폴더 {folder_path} 가 존재하지 않습니다.\")\n",
        "        return 0\n",
        "\n",
        "    file_count = 0\n",
        "    for root, dirs, files in os.walk(folder_path):\n",
        "        file_count += len(files)\n",
        "\n",
        "    return file_count\n",
        "\n",
        "# 폴더 경로를 지정해주세요\n",
        "folder_path = '/content/wav/train_wav'\n",
        "\n",
        "total_files = count_files_in_folder(folder_path)\n",
        "print(f'폴더 내의 파일 개수: {total_files}')"
      ]
    },
    {
      "cell_type": "code",
      "execution_count": null,
      "metadata": {
        "id": "NYAbPgpizZvz"
      },
      "outputs": [],
      "source": [
        "gpu_info = !nvidia-smi\n",
        "gpu_info = '\\n'.join(gpu_info)\n",
        "if gpu_info.find('failed') >= 0:\n",
        "  print('Not connected to a GPU')\n",
        "else:\n",
        "  print(gpu_info)\n",
        "\n",
        "from psutil import virtual_memory\n",
        "ram_gb = virtual_memory().total / 1e9\n",
        "print('Your runtime has {:.1f} gigabytes of available RAM\\n'.format(ram_gb))\n",
        "\n",
        "if ram_gb < 20:\n",
        "  print('Not using a high-RAM runtime')\n",
        "else:\n",
        "  print('You are using a high-RAM runtime!')"
      ]
    },
    {
      "cell_type": "code",
      "execution_count": null,
      "metadata": {
        "id": "SuMEcQfPCQzF"
      },
      "outputs": [],
      "source": [
        "########################필요한 확장팩 다움#######################3\n",
        "%cd \"/content/drive/MyDrive/cap/mykospeech/kospeech\"\n",
        "\n",
        "!pip install torch>=1.4.0\n",
        "!pip install python-Levenshtein\n",
        "!pip install librosa>=0.7.0\n",
        "!pip install numpy\n",
        "!pip install pandas\n",
        "!pip install tqdm\n",
        "!pip install matplotlib\n",
        "!pip install astropy\n",
        "!pip install sentencepiece\n",
        "!pip install hydra-core\n",
        "\n"
      ]
    },
    {
      "cell_type": "code",
      "execution_count": null,
      "metadata": {
        "id": "Q-bTDwsdyXSh"
      },
      "outputs": [],
      "source": [
        "!pip cache purge\n",
        "!pip install -e .\n"
      ]
    },
    {
      "cell_type": "code",
      "execution_count": null,
      "metadata": {
        "id": "Bm0FU3Ydzd5t"
      },
      "outputs": [],
      "source": [
        "!pip cache purge"
      ]
    },
    {
      "cell_type": "code",
      "execution_count": null,
      "metadata": {
        "id": "KMM823UO0FTN"
      },
      "outputs": [],
      "source": [
        "%cd \"/content/drive/MyDrive/cap/mykospeech/kospeech\"\n",
        "!python ./bin/main.py model=ds2 train=ds2_train train.dataset_path=\"/content/wav/train_wav\"\n",
        "\n"
      ]
    },
    {
      "cell_type": "code",
      "execution_count": null,
      "metadata": {
        "colab": {
          "base_uri": "https://localhost:8080/"
        },
        "id": "Ah1zcghSuysy",
        "outputId": "5da50733-f0ca-4830-cdbc-96e2ad73000e"
      },
      "outputs": [
        {
          "name": "stdout",
          "output_type": "stream",
          "text": [
            "An error occurred: name 'num_lines' is not defined\n"
          ]
        }
      ],
      "source": [
        "#####################텍스트 나눠서 파일 만드는 함수#################\n",
        "\n",
        "def copy_lines(input_file, output_file, num_lines1,num_lines2):\n",
        "    try:\n",
        "        with open(input_file, 'r', encoding='utf-8') as infile:\n",
        "            lines = infile.readlines()\n",
        "\n",
        "        with open(output_file, 'w', encoding='utf-8') as outfile:\n",
        "            for line in lines[num_lines1:num_lines2]:\n",
        "                outfile.write(line)\n",
        "\n",
        "        print(f'{num_lines} lines copied from {input_file} to {output_file}')\n",
        "    except FileNotFoundError:\n",
        "        print(f'The file {input_file} does not exist.')\n",
        "    except Exception as e:\n",
        "        print(f'An error occurred: {e}')\n",
        "\n",
        "# 사용 예시\n",
        "input_file = '/content/drive/MyDrive/cap/mykospeech/kospeech/dataset/kspon/transcripts.txt'\n",
        "output_file = '/content/drive/MyDrive/cap/mykospeech/kospeech/texttest/output3.txt'\n",
        "num_lines1 = 81298\n",
        "num_lines2 = 113122\n",
        "\n",
        "copy_lines(input_file, output_file, num_lines1, num_lines2)\n"
      ]
    },
    {
      "cell_type": "code",
      "execution_count": null,
      "metadata": {
        "id": "o_8izlySeGcN"
      },
      "outputs": [],
      "source": [
        "########################파일 삭제 함수#############################\n",
        "\n",
        "def delete_files_in_folder(folder_path):\n",
        "    # 폴더가 존재하는지 확인합니다.\n",
        "    if not os.path.exists(folder_path):\n",
        "        print(f\"The folder {folder_path} does not exist.\")\n",
        "        return\n",
        "\n",
        "    # 폴더 안의 파일 및 폴더 목록을 가져옵니다.\n",
        "    for filename in os.listdir(folder_path):\n",
        "        file_path = os.path.join(folder_path, filename)\n",
        "\n",
        "        try:\n",
        "            # 파일인 경우 삭제합니다.\n",
        "            if os.path.isfile(file_path) or os.path.islink(file_path):\n",
        "                os.unlink(file_path)\n",
        "                print(f\"File {file_path} has been deleted.\")\n",
        "            # 디렉토리인 경우 삭제합니다.\n",
        "            elif os.path.isdir(file_path):\n",
        "                shutil.rmtree(file_path)\n",
        "                print(f\"Directory {file_path} has been deleted.\")\n",
        "        except Exception as e:\n",
        "            print(f\"Failed to delete {file_path}. Reason: {e}\")\n",
        "\n",
        "# 예제 사용법\n",
        "folder_path = '/content/wav/train_wav'\n",
        "delete_files_in_folder(folder_path)"
      ]
    },
    {
      "cell_type": "code",
      "execution_count": null,
      "metadata": {
        "id": "Zma1mPEp1MTd"
      },
      "outputs": [],
      "source": [
        "#########################테스트 함수############################\n",
        "%cd \"/content/drive/MyDrive/cap/mykospeech/kospeech\"\n",
        "!python3 ./bin/inference.py --model_path \"/content/drive/MyDrive/cap/mykospeech/kospeech/outputs/2024-05-23/12-52-08/model.pt\" --audio_path \"/content/K00010000-AFG10-L1N2D1-E-K0KK-00339609.wav\" --device \"cpu\""
      ]
    },
    {
      "cell_type": "code",
      "execution_count": null,
      "metadata": {
        "id": "aKX9qOQkQOsx"
      },
      "outputs": [],
      "source": [
        "########################파일 삭제 함수#############################\n",
        "\n",
        "def delete_files_in_folder(folder_path):\n",
        "    # 폴더가 존재하는지 확인합니다.\n",
        "    if not os.path.exists(folder_path):\n",
        "        print(f\"The folder {folder_path} does not exist.\")\n",
        "        return\n",
        "\n",
        "    # 폴더 안의 파일 및 폴더 목록을 가져옵니다.\n",
        "    for filename in os.listdir(folder_path):\n",
        "        file_path = os.path.join(folder_path, filename)\n",
        "\n",
        "        try:\n",
        "            # 파일인 경우 삭제합니다.\n",
        "            if os.path.isfile(file_path) or os.path.islink(file_path):\n",
        "                os.unlink(file_path)\n",
        "                print(f\"File {file_path} has been deleted.\")\n",
        "            # 디렉토리인 경우 삭제합니다.\n",
        "            elif os.path.isdir(file_path):\n",
        "                shutil.rmtree(file_path)\n",
        "                print(f\"Directory {file_path} has been deleted.\")\n",
        "        except Exception as e:\n",
        "            print(f\"Failed to delete {file_path}. Reason: {e}\")\n",
        "\n",
        "# 예제 사용법\n",
        "folder_path = '/content/wav/train_wav'\n",
        "delete_files_in_folder(folder_path)"
      ]
    },
    {
      "cell_type": "code",
      "execution_count": null,
      "metadata": {
        "id": "W7zVHsEoAzdM"
      },
      "outputs": [],
      "source": [
        "##########################줄세는 함수###################################\n",
        "def count_lines(file_path):\n",
        "    try:\n",
        "        with open(file_path, 'r', encoding='utf-8') as file:\n",
        "            line_count = sum(1 for line in file)\n",
        "        return line_count\n",
        "    except FileNotFoundError:\n",
        "        print(f'The file {file_path} does not exist.')\n",
        "        return 0\n",
        "    except Exception as e:\n",
        "        print(f'An error occurred: {e}')\n",
        "        return 0\n",
        "\n",
        "# 사용 예시\n",
        "file_path = '/content/drive/MyDrive/cap/mykospeech/kospeech/data/transcripts.txt'\n",
        "total_lines = count_lines(file_path)\n",
        "print(f'The file {file_path} has {total_lines} lines.')\n"
      ]
    },
    {
      "cell_type": "code",
      "execution_count": null,
      "metadata": {
        "id": "DLzvo1s4gP2m"
      },
      "outputs": [],
      "source": [
        "import librosa\n",
        "import numpy as np\n",
        "\n",
        "def detect_speech(filename, frame_length=2048, hop_length=512, top_db=20):\n",
        "    # Load the audio file\n",
        "    y, sr = librosa.load(filename, sr=None)\n",
        "\n",
        "    # Calculate the amplitude envelope\n",
        "    envelope = librosa.onset.onset_strength(y=y, sr=sr, aggregate=np.median, hop_length=hop_length)\n",
        "\n",
        "    # Use a simple energy-based method to detect the presence of speech\n",
        "    energy = librosa.feature.rms(y=y, frame_length=frame_length, hop_length=hop_length)[0]\n",
        "    threshold = np.mean(energy) * 0.1  # You might need to adjust this threshold\n",
        "\n",
        "    # Find the start and end points\n",
        "    speech_frames = np.where(energy > threshold)[0]\n",
        "\n",
        "    if len(speech_frames) == 0:\n",
        "        return None, None  # No speech detected\n",
        "\n",
        "    # Convert frame indices to time\n",
        "    start_time = librosa.frames_to_time(speech_frames[0], sr=sr, hop_length=hop_length)\n",
        "    end_time = librosa.frames_to_time(speech_frames[-1], sr=sr, hop_length=hop_length)\n",
        "\n",
        "    return start_time, end_time\n",
        "\n",
        "# Example usage\n",
        "filename = '/content/converted_새로운 녹음 19.wav'\n",
        "start, end = detect_speech(filename)\n",
        "\n",
        "if start is not None and end is not None:\n",
        "    print(f\"Speech starts at: {start:.2f} seconds\")\n",
        "    print(f\"Speech ends at: {end:.2f} seconds\")\n",
        "    print(f\"전체 길이:{end-start:2f}\")\n",
        "else:\n",
        "    print(\"No speech detected in the audio file.\")\n"
      ]
    },
    {
      "cell_type": "code",
      "execution_count": null,
      "metadata": {
        "id": "aKAsdjd31X1h"
      },
      "outputs": [],
      "source": [
        "import librosa\n",
        "import librosa.display\n",
        "import matplotlib.pyplot as plt\n",
        "import numpy as np\n",
        "\n",
        "def plot_spectrogram(filename):\n",
        "    # Load the audio file\n",
        "    y, sr = librosa.load(filename, sr=None)\n",
        "\n",
        "    # Compute the Short-Time Fourier Transform (STFT)\n",
        "    D = np.abs(librosa.stft(y))\n",
        "\n",
        "    # Convert amplitude to decibels\n",
        "    DB = librosa.amplitude_to_db(D, ref=np.max)\n",
        "\n",
        "    # Plot the spectrogram\n",
        "    plt.figure(figsize=(10, 6))\n",
        "    librosa.display.specshow(DB, sr=sr, x_axis='time', y_axis='log')\n",
        "    plt.colorbar(format='%+2.0f dB')\n",
        "    plt.title('Spectrogram')\n",
        "    plt.xlabel('Time (s)')\n",
        "    plt.ylabel('Frequency (Hz)')\n",
        "    plt.show()\n",
        "\n",
        "# Example usage\n",
        "filename1 = '/content/K00010002-AFG10-L1N2D1-E-K0KK-00039685.wav'\n",
        "plot_spectrogram(filename1)\n",
        "filename2='/content/denoised_audio.wav'\n",
        "plot_spectrogram(filename2)\n"
      ]
    },
    {
      "cell_type": "code",
      "execution_count": null,
      "metadata": {
        "id": "_eHgubUI1aYG"
      },
      "outputs": [],
      "source": [
        "!pip install jamo\n",
        "\n",
        "import difflib\n",
        "from jamo import h2j, j2hcj\n",
        "\n",
        "def find_character_differences(word1, word2):\n",
        "    # Use SequenceMatcher to compare the two words\n",
        "    s = difflib.SequenceMatcher(None, word1, word2)\n",
        "\n",
        "    differences = []\n",
        "    for tag, i1, i2, j1, j2 in s.get_opcodes():\n",
        "        if tag != 'equal':\n",
        "            diff = {\n",
        "                'operation': tag,\n",
        "                'word1_text': word1[i1:i2],\n",
        "                'word2_text': word2[j1:j2],\n",
        "                'word1_index': (i1, i2),\n",
        "                'word2_index': (j1, j2)\n",
        "            }\n",
        "            differences.append(diff)\n",
        "\n",
        "    return differences\n",
        "\n",
        "def describe_operation(operation):\n",
        "    if operation == 'replace':\n",
        "        return 'changed to'\n",
        "    elif operation == 'delete':\n",
        "        return 'removed'\n",
        "    elif operation == 'insert':\n",
        "        return 'added'\n",
        "    elif operation == 'equal':\n",
        "        return 'equal to'\n",
        "    else:\n",
        "        return operation\n",
        "\n",
        "def decompose_korean_word(word):\n",
        "    return j2hcj(h2j(word))\n",
        "\n",
        "def compare_korean_characters(char1, char2):\n",
        "    if char1 == char2:\n",
        "        return None\n",
        "\n",
        "    decomposed1 = decompose_korean_word(char1)\n",
        "    decomposed2 = decompose_korean_word(char2)\n",
        "\n",
        "    differences = []\n",
        "    for d1, d2 in zip(decomposed1, decomposed2):\n",
        "        if d1 != d2:\n",
        "            differences.append((d1, d2))\n",
        "\n",
        "    return differences\n",
        "\n",
        "def print_character_differences(differences):\n",
        "    for diff in differences:\n",
        "        print(f\"Operation: {describe_operation(diff['operation'])}\")\n",
        "        print(f\"Word1 text: '{diff['word1_text']}' (from index {diff['word1_index'][0]} to {diff['word1_index'][1]})\")\n",
        "        print(f\"Word2 text: '{diff['word2_text']}' (from index {diff['word2_index'][0]} to {diff['word2_index'][1]})\")\n",
        "\n",
        "        for c1, c2 in zip(diff['word1_text'], diff['word2_text']):\n",
        "            char_diff = compare_korean_characters(c1, c2)\n",
        "            if char_diff:\n",
        "                for j1, j2 in char_diff:\n",
        "                    print(f\"Character difference: '{c1}' vs '{c2}' -> '{j1}' changed to '{j2}'\")\n",
        "        print()\n",
        "\n",
        "# Example usage\n",
        "word1 = \"감자\"\n",
        "word2 = \"간자자\"\n",
        "\n",
        "differences = find_character_differences(word1, word2)\n",
        "print_character_differences(differences)\n"
      ]
    },
    {
      "cell_type": "code",
      "source": [
        "import difflib\n",
        "from jamo import h2j, j2hcj\n",
        "\n",
        "def find_character_differences(sentence1, sentence2):\n",
        "    # Use SequenceMatcher to compare the two sentences\n",
        "    s = difflib.SequenceMatcher(None, sentence1, sentence2)\n",
        "\n",
        "    differences = []\n",
        "    for tag, i1, i2, j1, j2 in s.get_opcodes():\n",
        "        if tag != 'equal':\n",
        "            diff = {\n",
        "                'operation': tag,\n",
        "                'sentence1_text': sentence1[i1:i2],\n",
        "                'sentence2_text': sentence2[j1:j2],\n",
        "                'sentence1_index': (i1, i2),\n",
        "                'sentence2_index': (j1, j2)\n",
        "            }\n",
        "            differences.append(diff)\n",
        "\n",
        "    return differences\n",
        "\n",
        "def describe_operation(operation):\n",
        "    if operation == 'replace':\n",
        "        return 'changed to'\n",
        "    elif operation == 'delete':\n",
        "        return 'removed'\n",
        "    elif operation == 'insert':\n",
        "        return 'added'\n",
        "    elif operation == 'equal':\n",
        "        return 'equal to'\n",
        "    else:\n",
        "        return operation\n",
        "\n",
        "def decompose_korean_word(word):\n",
        "    return j2hcj(h2j(word))\n",
        "\n",
        "def compare_korean_characters(char1, char2):\n",
        "    if char1 == char2:\n",
        "        return None\n",
        "\n",
        "    decomposed1 = decompose_korean_word(char1)\n",
        "    decomposed2 = decompose_korean_word(char2)\n",
        "\n",
        "    differences = []\n",
        "    for d1, d2 in zip(decomposed1, decomposed2):\n",
        "        if d1 != d2:\n",
        "            differences.append((d1, d2))\n",
        "\n",
        "    return differences\n",
        "\n",
        "def print_character_differences(differences):\n",
        "    for diff in differences:\n",
        "        print(f\"Operation: {describe_operation(diff['operation'])}\")\n",
        "        print(f\"Sentence1 text: '{diff['sentence1_text']}' (from index {diff['sentence1_index'][0]} to {diff['sentence1_index'][1]})\")\n",
        "        print(f\"Sentence2 text: '{diff['sentence2_text']}' (from index {diff['sentence2_index'][0]} to {diff['sentence2_index'][1]})\")\n",
        "\n",
        "        # Compare each character in the differing segments\n",
        "        for c1, c2 in zip(diff['sentence1_text'], diff['sentence2_text']):\n",
        "            char_diff = compare_korean_characters(c1, c2)\n",
        "            if char_diff:\n",
        "                for j1, j2 in char_diff:\n",
        "                    print(f\"Character difference: '{c1}' changed to '{c2}' -> '{j1}' changed to '{j2}'\")\n",
        "        print()\n",
        "\n",
        "# # Example usage\n",
        "# sentence1 = \"문을 두드려 주세요\"\n",
        "# sentence2 = \"문을 두들려 주세요\"\n",
        "\n",
        "# differences = find_character_differences(sentence1, sentence2)\n",
        "# print_character_differences(differences)\n",
        "\n",
        "# Example with spacing difference\n",
        "sentence1 = \"문을 두드려 주세요\"\n",
        "sentence2 = \"문을두 들드려 주세요\"\n",
        "\n",
        "differences = find_character_differences(sentence1, sentence2)\n",
        "print_character_differences(differences)\n"
      ],
      "metadata": {
        "id": "EFsv5Zd1OW29"
      },
      "execution_count": null,
      "outputs": []
    },
    {
      "cell_type": "code",
      "source": [
        "import numpy as np\n",
        "import librosa\n",
        "from scipy.io import wavfile\n",
        "\n",
        "# 음성 파일 불러오기\n",
        "audio_data, sr = librosa.load('/content/recording (5).wav')\n",
        "\n",
        "# FFT를 통한 스펙트럼 분석\n",
        "spec = np.fft.fft(audio_data)\n",
        "\n",
        "# 노이즈 부분과 음성 부분 구분\n",
        "noise_start = 18000\n",
        "noise_end = 20000\n",
        "noise = audio_data[noise_start:noise_end]\n",
        "\n",
        "# 노이즈를 스펙트럼에서 제거\n",
        "spec[noise_start:noise_end] = 0\n",
        "\n",
        "# 역 FFT를 통해 제거된 스펙트럼으로부터 음성 데이터 복원\n",
        "denoised_audio = np.fft.ifft(spec)\n",
        "\n",
        "# 복원된 음성 데이터 저장\n",
        "wavfile.write('denoised_audio.wav', sr, denoised_audio.real)\n"
      ],
      "metadata": {
        "id": "94mzCNRrQH4q"
      },
      "execution_count": null,
      "outputs": []
    },
    {
      "cell_type": "code",
      "source": [],
      "metadata": {
        "id": "_SiHYJKSqw_7"
      },
      "execution_count": null,
      "outputs": []
    }
  ],
  "metadata": {
    "colab": {
      "provenance": []
    },
    "kernelspec": {
      "display_name": "Python 3",
      "name": "python3"
    },
    "language_info": {
      "name": "python"
    }
  },
  "nbformat": 4,
  "nbformat_minor": 0
}